{
 "cells": [
  {
   "cell_type": "markdown",
   "metadata": {
    "deletable": true,
    "editable": true
   },
   "source": [
    "# Agenda: \n",
    "### 1. Why Twitter may be relevant for ViEWS\n",
    "### 2. Streaming API v. REST API\n",
    "### 3. Anantomy of a Tweet\n",
    "### 4. Twitter Geography \n",
    "### 5. Collecting Tweets"
   ]
  },
  {
   "cell_type": "markdown",
   "metadata": {
    "deletable": true,
    "editable": true
   },
   "source": [
    "# 1. Why Twitter may be relevant for ViEWS\n",
    "\n",
    "Extremely fine-grained input. \n",
    "\n",
    "Can capture the less tangible - repression, grievances, fear.\n",
    "\n",
    "Political dicussions make up 10% of all geolocated tweets in Africa, compared with 2% in the US and UK (<a href=\"https://portland-communications.com/pdf/How-Africa-Tweets-2018.pdf\">How Africa Tweets</a>). "
   ]
  },
  {
   "cell_type": "markdown",
   "metadata": {
    "deletable": true,
    "editable": true
   },
   "source": [
    "# 2. Streaming API v. REST API "
   ]
  },
  {
   "cell_type": "markdown",
   "metadata": {
    "deletable": true,
    "editable": true
   },
   "source": [
    "<b>Data</b>\n",
    "REST API Rate limit is 180 requests per 15 minutes, with a maximum of 100 tweets per request. \n",
    "Stream API provides 1 % stream of all tweets for free. When we execute a filter, Twitter returns all tweets matching that criteria up to 1\\% of all tweets. \n",
    "Only REST API can go backwards - but only 9-7 days. \n",
    "\n",
    "<b>Sampling</b> \n",
    "REST API appear to not be a random sample, while streaming is (<a href=\"https://arxiv.org/pdf/1212.1684.pdf\"> González-Bailón et al., 2012</a>, <a href=\"http://www.aaai.org/ocs/index.php/ICWSM/ICWSM13/paper/download/6071/6379\">Morstatter et al., 2013</a>)\n",
    "\n",
    "<b>Cost</b>\n",
    "10% stream is $$$, I've heard people say they've been given access to the 100% stream.\n",
    "The streaming API occasionally disconnects. "
   ]
  },
  {
   "cell_type": "markdown",
   "metadata": {
    "deletable": true,
    "editable": true
   },
   "source": [
    "# 3. Twitter Geography\n",
    "\n",
    "<img src=\"https://mail.google.com/mail/u/0?ui=2&ik=98be79f5cd&attid=0.1&permmsgid=msg-a:r-5002440596012503420&th=168e54e539028eef&view=fimg&sz=s0-l75-ft&attbid=ANGjdJ8_RYQWLjt4z7r1MCsRI5fcdgrmahcP2bd5rplT2StnsOL-u6PPVmDDAnI_SYFebt3QWGQwdnhvhEUX71verNE127IHAO149Shi816rL9XP8yEsIRznMeTRqUU&disp=emb&realattid=168e54e3f0bc6eebc2a3\" width=\"400\"> \n",
    "\n",
    "<img src=\"https://mail.google.com/mail/u/0?ui=2&ik=98be79f5cd&attid=0.3&permmsgid=msg-a:r-5002440596012503420&th=168e54e539028eef&view=fimg&sz=s0-l75-ft&attbid=ANGjdJ_XTX2Z2VHFD1ktqjgZKKtPwqfPb89gQPqkFxl8H5O8LW5_SDHcyM1kWoXpV_7TV_SdJbrzjNSq7ZP7UpKfWhJBrEvP3KhRx5lS5GBM1Kv2Uuq5cIc1Yw9cuPU&disp=emb&realattid=168e54e331b2b34d02b2\" width=\"400\"> \n",
    "\n",
    "<img src=\"https://mail.google.com/mail/u/0?ui=2&ik=98be79f5cd&attid=0.2&permmsgid=msg-a:r-5002440596012503420&th=168e54e539028eef&view=fimg&sz=s0-l75-ft&attbid=ANGjdJ9qtXr2lMXLCPchz-QhLlgOJmX1JRExasynFW2Hp7qo3qkFBltWDDIUY08yCIFsDQNlIzVv8_fqfc4mkJjhbfWwls8_kXPM1SHfIwC3_LnTx2V4490xESwcVDQ&disp=emb&realattid=168e54e252d8f7ae42c1\" width=\"400\"> \n",
    "\n",
    "Those who opt into geolocation are not a <a href=\"https://journals.plos.org/plosone/article?id=10.1371/journal.pone.0142209\">random subset</a>. \n",
    "\n",
    "There are of course <a href=\"https://arxiv.org/pdf/1403.2345v1.pdf\">algorithmic approaches</a> to identifying location. Location information can also be discerned from profile information.\n",
    "\n",
    "The streaming API does not use a user’s self-reported location. - <a href=\"https://escholarship.org/content/qt6f44z6nm/qt6f44z6nm.pdf\">(Zachary Steinert-Threlkeld, 2016)</a>\n",
    "\n",
    "For Twitter data that is less or more fine-grained than you need, the <a href=\"https://pypi.org/project/reverse_geocoder/\">reverse_geocoder</a> package in Python is an easy way to move down or up the geographic scale. "
   ]
  },
  {
   "cell_type": "markdown",
   "metadata": {
    "deletable": true,
    "editable": true
   },
   "source": [
    "# 4. Anatomy of a Tweet\n",
    "\n",
    "<img src=\"https://mail.google.com/mail/u/0?ui=2&ik=98be79f5cd&attid=0.2&permmsgid=msg-a:r7738209854623967119&th=168e59314eda8eb6&view=fimg&sz=s0-l75-ft&attbid=ANGjdJ8hJXnWpirfaZskiXvOhZeOTCiPKu3iDtfQkkDU-Xioq-_z8rwmL1-YmbIo9Uiu2nABEBT12QH8jxDtmFjqZH8N3F-6DNx0TO4-iPTfruFhTDkaF4DnDDPv8hc&disp=emb&realattid=ii_js2tp8uu1\" width=\"800\">\n",
    "\n",
    "<img src=\"https://mail.google.com/mail/u/0?ui=2&ik=98be79f5cd&attid=0.1&permmsgid=msg-a:r5284971805052473919&th=168e58fd663f8a38&view=fimg&sz=s0-l75-ft&attbid=ANGjdJ8wXzNZklz7M2ivJvqte-qK6xBkiwrJf-lggjiP177-6OIkIRf3S5T7YIjWEkZh7afK6K2jYL2XW-D_X2Tn4iHoWrDiKHBNmZAkHbvtOfGffPFjCG8IteS7TXU&disp=emb&realattid=ii_js2tkbzi1\" width=\"600\">\n",
    "\n",
    "{\"quote_count\": 0, \"contributors\": null, \"truncated\": false, <span style=\"color: #ff0000\">\"text\": \"@OxladeStuart @classmonitorUG He trolled arsenal like nothing \\ud83d\\ude02\\ud83d\\ude02\\ud83d\\ude02\"</span>, \"is_quote_status\": false, \"in_reply_to_status_id\": 1095565104639340545, \"reply_count\": 0, \"id\": 1095565459125141504, \"favorite_count\": 0, \"entities\": {\"user_mentions\": [{\"id\": 824953089178349568, \"indices\": [0, 13], <span style=\"color: #ff0000\">\"id_str\": \"824953089178349568\" </span>, \"screen_name\": \"OxladeStuart\", \"name\": \"Ngolito K\\u00e1ntegas thought about it and\"}, {\"id\": 954999947442737153, \"indices\": [14, 29], \"id_str\": \"954999947442737153\", \"screen_name\": \"classmonitorUG\", \"name\": \"Classmonitor \\ud83d\\udcaf\"}], \"symbols\": [], \"hashtags\": [], \"urls\": []}, \"retweeted\": false, \"coordinates\": null, \"timestamp_ms\": \"1550038134734\", \"source\": \"<a href=\\\"http://twitter.com/download/iphone\\\" rel=\\\"nofollow\\\">Twitter for iPhone</a>\", \"in_reply_to_screen_name\": \"OxladeStuart\", \"id_str\": \"1095565459125141504\", \"display_text_range\": [30, 65], <span style=\"color: #ff0000\">\"retweet_count\": 0</span>, \"in_reply_to_user_id\": 824953089178349568, \"favorited\": false, \"user\": {\"follow_request_sent\": null, \"profile_use_background_image\": true, \"default_profile_image\": false, \"id\": 875539550998863873, \"default_profile\": true, \"verified\": false, \"profile_image_url_https\": \"https://pbs.twimg.com/profile_images/1046144274218307586/ISyvgODB_normal.jpg\", \"profile_sidebar_fill_color\": \"DDEEF6\", \"profile_text_color\": \"333333\", \"followers_count\": 12790, \"profile_sidebar_border_color\": \"C0DEED\", \"id_str\": \"875539550998863873\", \"profile_background_color\": \"F5F8FA\", \"listed_count\": 1, \"profile_background_image_url_https\": \"\", \"utc_offset\": null, \"statuses_count\": 14553, <span style=\"color: #ff0000\">\"description\": \"Muslim ||@Arsenal fan||gamer\\ud83c\\udfae|| business mind\\ud83e\\udd1d|| Manager @ElegantStoresUg || IG https://instagram.com/the_bibah\"</span>, <span style=\"color: #ff0000\">\"friends_count\": 11137, \"location\": \"Kampala, Uganda\"</span>, \"profile_link_color\": \"1DA1F2\", \"profile_image_url\": \"http://pbs.twimg.com/profile_images/1046144274218307586/ISyvgODB_normal.jpg\", \"following\": null, \"geo_enabled\": true, \"profile_banner_url\": \"https://pbs.twimg.com/profile_banners/875539550998863873/1537602093\", \"profile_background_image_url\": \"\", \"name\": \"the Bibah\\ud83c\\uddfa\\ud83c\\uddec\", \"lang\": \"en\", \"profile_background_tile\": false, \"favourites_count\": 17143, \"screen_name\": \"TheBibah\", \"notifications\": null, \"url\": null, \"created_at\": \"Fri Jun 16 02:24:30 +0000 2017\", \"contributors_enabled\": false, \"time_zone\": null, \"protected\": false, \"translator_type\": \"none\", \"is_translator\": false}, \"geo\": null, \"in_reply_to_user_id_str\": \"824953089178349568\", \"lang\": \"en\", \"created_at\": \"Wed Feb 13 06:08:54 +0000 2019\", \"filter_level\": \"low\", \"in_reply_to_status_id_str\": \"1095565104639340545\", <span style=\"color: #ff0000\">\"place\": {\"full_name\": \"Kampala, Uganda\", \"url\": \"https://api.twitter.com/1.1/geo/id/000c69ad123213a8.json\", \"country\": \"Uganda\", \"place_type\": \"admin\", \"bounding_box\": {\"type\": \"Polygon\", \"coordinates\": [[[32.416623, 0.164853], [32.416623, 0.413682], [32.721697, 0.413682], [32.721697, 0.164853]]]}, \"country_code\": \"UG\", \"attributes\": {}, \"id\": \"000c69ad123213a8\", \"name\": \"Kampala\"}}</span>\n",
    "\n",
    "Full list of Twitter objects can be found <a href=\"https://developer.twitter.com/en/docs/tweets/data-dictionary/overview/tweet-object.html\">here</a>"
   ]
  },
  {
   "cell_type": "markdown",
   "metadata": {
    "deletable": true,
    "editable": true
   },
   "source": [
    "# 5. Collecting Tweets \n",
    "\n",
    "## TMTOWTDI\n",
    "There are a million possible iterations of how you could automate collecting Twitter data. All because a technique or strategy isn't included below doesn't mean its not a viable option. Different tactics build on skill sets I have/you have. I've put this together to demonstrate what has been working for me, but there are a lot of place for improvement."
   ]
  },
  {
   "cell_type": "markdown",
   "metadata": {},
   "source": [
    "All of the code is available on this <a href=\"https://github.com/carolinebrandt/ViEWS-Twitter-Scraping\">github repo</a>. "
   ]
  },
  {
   "cell_type": "code",
   "execution_count": null,
   "metadata": {
    "collapsed": true,
    "deletable": true,
    "editable": true
   },
   "outputs": [],
   "source": [
    "ssh -i \"/Users/cbrandt/Downloads/uppsala_key_pair.pem\" ubuntu@ec2-18-212-4-7.compute-1.amazonaws.com\n",
    "cd ViEWS-Twitter-Scraping/\n",
    "chmod +x auto-setup.sh\n",
    "./auto-setup.sh"
   ]
  },
  {
   "cell_type": "code",
   "execution_count": null,
   "metadata": {
    "collapsed": true,
    "deletable": true,
    "editable": true
   },
   "outputs": [],
   "source": [
    "#note - no spaces between words, Twitter will try to match the space as well \n",
    "def streamConnect(CONSUMERKEY, CONSUMERSECRET, ACCESSTOKEN, ACCESSSECRET):\n",
    "    stream = MyStreamer(CONSUMERKEY, CONSUMERSECRET, ACCESSTOKEN, ACCESSSECRET)\n",
    "    stream.statuses.filter(track=['fear,˽violence,˽presidental˽election'])\n"
   ]
  },
  {
   "cell_type": "code",
   "execution_count": null,
   "metadata": {
    "collapsed": true,
    "deletable": true,
    "editable": true
   },
   "outputs": [],
   "source": [
    "def streamConnect(CONSUMERKEY, CONSUMERSECRET, ACCESSTOKEN, ACCESSSECRET):\n",
    "    stream = MyStreamer(CONSUMERKEY, CONSUMERSECRET, ACCESSTOKEN, ACCESSSECRET)\n",
    "    stream.statuses.filter(locations=[22.0, 31.8330854, 24.6499112, 37.1153517])"
   ]
  },
  {
   "cell_type": "markdown",
   "metadata": {
    "deletable": true,
    "editable": true
   },
   "source": [
    "# Disconnection  \n",
    "\n",
    "- Start and restart the streaming at regular intervals (once a day, once an hour) \n",
    "- Write a monitoring script that restarts \n"
   ]
  }
 ],
 "metadata": {
  "kernelspec": {
   "display_name": "Python 2",
   "language": "python",
   "name": "python2"
  },
  "language_info": {
   "codemirror_mode": {
    "name": "ipython",
    "version": 2
   },
   "file_extension": ".py",
   "mimetype": "text/x-python",
   "name": "python",
   "nbconvert_exporter": "python",
   "pygments_lexer": "ipython2",
   "version": "2.7.13"
  }
 },
 "nbformat": 4,
 "nbformat_minor": 2
}
